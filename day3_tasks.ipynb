{
 "cells": [
  {
   "cell_type": "markdown",
   "metadata": {},
   "source": [
    "```python\n",
    "Task 1\n",
    "```"
   ]
  },
  {
   "cell_type": "code",
   "execution_count": 2,
   "metadata": {},
   "outputs": [],
   "source": [
    "## How many other datatypes are there ? write examples.\n",
    "\n",
    "#String\n",
    "##Example \"Mamoona Riffat\", \"Jupyter_123\"\n",
    "\n",
    "# Complex data type: a complex data type is used to represent complex numbers. Complex numbers are numbers that have both a real partand are written in the form a + bj,\n",
    "##   and an imaginary part where a is the real part, b is the imaginary part, and j represents the square root of -1\n",
    "# Example\n",
    "z1 = 2 + 3j \n",
    "z2 = 1 - 2j \n",
    "sum=z1+z2"
   ]
  },
  {
   "cell_type": "code",
   "execution_count": 6,
   "metadata": {},
   "outputs": [
    {
     "name": "stdout",
     "output_type": "stream",
     "text": [
      "range(0, 6)\n"
     ]
    }
   ],
   "source": [
    "#Boolean Data type used for decision making\n",
    "is_student = True\n",
    "has_membership = False\n",
    "\n",
    "\n",
    "#List data type \n",
    "x = [\"Bed\", \"Chair\", \"Fan\"]\n",
    "\n",
    "# range datatype \n",
    "x = range(6)\n",
    "print(x)"
   ]
  },
  {
   "cell_type": "markdown",
   "metadata": {},
   "source": [
    "**Task2**\n",
    "## Convert data type int to float\n",
    "## convert string to float \n"
   ]
  },
  {
   "cell_type": "code",
   "execution_count": 29,
   "metadata": {},
   "outputs": [
    {
     "name": "stdout",
     "output_type": "stream",
     "text": [
      "3.0\n",
      "12345.0\n"
     ]
    }
   ],
   "source": [
    "integer=3\n",
    "convert_to_float=float(integer)\n",
    "print(convert_to_float)\n",
    "\n",
    "##Conversion string to float\n",
    "String=\"12345\"\n",
    "C_to_float=float(String)\n",
    "print(C_to_float)"
   ]
  },
  {
   "cell_type": "markdown",
   "metadata": {},
   "source": [
    "Task **3**\n",
    "Calculate your tax with respect to age.\n",
    "Ask age from user via input command,if age is less than 18 no tax, if age is 18-30 then 1.2% tax\n",
    "if age is 30-50 then 2% tax,if age is greater than 90, no tax ."
   ]
  },
  {
   "cell_type": "code",
   "execution_count": 52,
   "metadata": {},
   "outputs": [
    {
     "name": "stdout",
     "output_type": "stream",
     "text": [
      "no tax\n"
     ]
    }
   ],
   "source": [
    "\n",
    "        age = int(input(\"Enter your age: \"))  # ask age from user\n",
    "# Checking age and percentage of tax.\n",
    "        if age < 18:\n",
    "            print(\"no tax\") # No tax for individuals under 18\n",
    "        elif 18 <= age <= 30:\n",
    "            print(\"1.2% tax\") # 1.2% tax for individuals between 18 and 30\n",
    "        elif age > 30 and age <= 50:\n",
    "            print(\" pay 2% tax\")\n",
    "        elif age > 50:\n",
    "            print(\" No tax\")\n",
    "        else:\n",
    "             print(\" invalid age\")\n",
    "    \n"
   ]
  },
  {
   "cell_type": "markdown",
   "metadata": {},
   "source": [
    "Task **4**\n",
    "Define a function that show random quotes\n",
    "#download random libarary \n",
    "make a list with name\n",
    "quotes[three quotes\n",
    "display random quotes]"
   ]
  },
  {
   "cell_type": "code",
   "execution_count": 57,
   "metadata": {},
   "outputs": [
    {
     "name": "stdout",
     "output_type": "stream",
     "text": [
      "6\n"
     ]
    }
   ],
   "source": [
    "#Check wether random library is already downloaded with python\n",
    "import random\n",
    "\n",
    "# Generate a random integer between 1 and 10 (inclusive)\n",
    "random_number = random.randint(1, 10)\n",
    "print(random_number)\n",
    "\n",
    "\n",
    "\n",
    "\n",
    "\n"
   ]
  },
  {
   "cell_type": "code",
   "execution_count": 59,
   "metadata": {},
   "outputs": [
    {
     "name": "stdout",
     "output_type": "stream",
     "text": [
      "A winner is a dreamer who never gives up\n"
     ]
    }
   ],
   "source": [
    "# random library is working so now task 4 code is here\n",
    "import random\n",
    "\n",
    "# Define a function to get a random quote\n",
    "def get_random_quote():\n",
    "    quotes = [\n",
    "        \"A winner is a dreamer who never gives up\",\n",
    "        \"Education is the most powerful weapon which you can use to change the world\",\n",
    "        \"Do not judge me by my successes, judge me by how many times I fell down and got back up again.\"\n",
    "    ]\n",
    "    return random.choice(quotes)\n",
    "\n",
    "# Display a random quote\n",
    "random_quote = get_random_quote()\n",
    "print(random_quote)\n"
   ]
  }
 ],
 "metadata": {
  "kernelspec": {
   "display_name": "Python 3",
   "language": "python",
   "name": "python3"
  },
  "language_info": {
   "codemirror_mode": {
    "name": "ipython",
    "version": 3
   },
   "file_extension": ".py",
   "mimetype": "text/x-python",
   "name": "python",
   "nbconvert_exporter": "python",
   "pygments_lexer": "ipython3",
   "version": "3.11.4"
  },
  "orig_nbformat": 4
 },
 "nbformat": 4,
 "nbformat_minor": 2
}
