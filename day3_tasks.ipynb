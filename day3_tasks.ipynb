{
 "cells": [
  {
   "cell_type": "markdown",
   "metadata": {},
   "source": [
    "```python\n",
    "Task 1\n",
    "```"
   ]
  },
  {
   "cell_type": "code",
   "execution_count": 2,
   "metadata": {},
   "outputs": [],
   "source": [
    "## How many other datatypes are there ? write examples.\n",
    "\n",
    "#String\n",
    "##Example \"Mamoona Riffat\", \"Jupyter_123\"\n",
    "\n",
    "# Complex data type: a complex data type is used to represent complex numbers. Complex numbers are numbers that have both a real partand are written in the form a + bj,\n",
    "##   and an imaginary part where a is the real part, b is the imaginary part, and j represents the square root of -1\n",
    "# Example\n",
    "z1 = 2 + 3j \n",
    "z2 = 1 - 2j \n",
    "sum=z1+z2"
   ]
  },
  {
   "cell_type": "code",
   "execution_count": 6,
   "metadata": {},
   "outputs": [
    {
     "name": "stdout",
     "output_type": "stream",
     "text": [
      "range(0, 6)\n"
     ]
    }
   ],
   "source": [
    "#Boolean Data type used for decision making\n",
    "is_student = True\n",
    "has_membership = False\n",
    "\n",
    "\n",
    "#List data type \n",
    "x = [\"Bed\", \"Chair\", \"Fan\"]\n",
    "\n",
    "# range datatype \n",
    "x = range(6)\n",
    "print(x)"
   ]
  },
  {
   "cell_type": "markdown",
   "metadata": {},
   "source": [
    "**Task2**\n",
    "## Convert data type int to float\n",
    "## convert string to float \n"
   ]
  },
  {
   "cell_type": "code",
   "execution_count": 8,
   "metadata": {},
   "outputs": [
    {
     "name": "stdout",
     "output_type": "stream",
     "text": [
      "3.0\n",
      "12345.0\n"
     ]
    }
   ],
   "source": [
    "integer=3\n",
    "convert_to_float=float(integer)\n",
    "print(convert_to_float)\n",
    "\n",
    "##Conversion string to float\n",
    "String=\"12345\"\n",
    "C_to_float=float(String)\n",
    "print(C_to_float)"
   ]
  },
  {
   "cell_type": "markdown",
   "metadata": {},
   "source": [
    "Task **4**\n",
    "Calculate your tax with respect to age.\n",
    "Ask age from user via input command,if age is less than 18 no tax, if age is 18-30 then 1.2% tax\n",
    "if age is 30-50 then 2% tax,if age is greater than 90, no tax ."
   ]
  },
  {
   "cell_type": "code",
   "execution_count": 13,
   "metadata": {},
   "outputs": [
    {
     "ename": "SyntaxError",
     "evalue": "expected ':' (1090400904.py, line 2)",
     "output_type": "error",
     "traceback": [
      "\u001b[1;36m  Cell \u001b[1;32mIn[13], line 2\u001b[1;36m\u001b[0m\n\u001b[1;33m    if Age<18\u001b[0m\n\u001b[1;37m             ^\u001b[0m\n\u001b[1;31mSyntaxError\u001b[0m\u001b[1;31m:\u001b[0m expected ':'\n"
     ]
    }
   ],
   "source": [
    "Age=input(\"What is your age?\")  # ask age from user\n",
    "\n",
    "# Checking age and percentage of tax.\n",
    "if Age<18\n",
    "print(\" You don't need to pay tax.\")\n",
    "\n",
    "\n",
    "\n",
    "# Ask the user for their age\n",
    "age = int(input(\"Enter your age: \"))\n",
    "\n",
    "# Initialize the tax variable\n",
    "tax = 0\n",
    "\n",
    "# Check age and calculate tax accordingly\n",
    "if age < 18:\n",
    "    tax = 0  # No tax for individuals under 18\n",
    "elif age >= 18 and age <= 30:\n",
    "    tax = 0.012  # 1.2% tax for individuals between 18 and 30\n",
    "elif age > 30 and age <= 50:\n",
    "    tax = 0.02  # 2% tax for individuals between 30 and 50\n",
    "elif age > 90:\n",
    "    tax = 0  # No tax for individuals over 90\n",
    "else:\n",
    "    print(\"Invalid age input\")\n",
    "\n",
    "# Calculate and display tax amount\n",
    "income = float(input(\"Enter your income: \"))\n",
    "tax_to_pay = income * tax\n",
    "print(f\"Your tax to pay is: {tax_to_pay:.2f}\")\n"
   ]
  }
 ],
 "metadata": {
  "kernelspec": {
   "display_name": "Python 3",
   "language": "python",
   "name": "python3"
  },
  "language_info": {
   "codemirror_mode": {
    "name": "ipython",
    "version": 3
   },
   "file_extension": ".py",
   "mimetype": "text/x-python",
   "name": "python",
   "nbconvert_exporter": "python",
   "pygments_lexer": "ipython3",
   "version": "3.11.4"
  },
  "orig_nbformat": 4
 },
 "nbformat": 4,
 "nbformat_minor": 2
}
