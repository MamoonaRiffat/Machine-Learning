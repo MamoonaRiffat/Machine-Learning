{
 "cells": [
  {
   "cell_type": "markdown",
   "metadata": {},
   "source": [
    "#Normality Test\n",
    "There are various tests to check normality.\n",
    "1. Shapiro Wilk Test\n",
    "2. Kolmogorov test\n",
    "3. AD Test...."
   ]
  },
  {
   "cell_type": "code",
   "execution_count": 1,
   "metadata": {},
   "outputs": [],
   "source": [
    "# we check skewness of data to check whether it is normal or not?\n",
    "#or we check histogram, it is even from both sides or not\n",
    "# and we confirm it with normality test. if skwedness is greater than 0 then normality is not there \n",
    "\n",
    "\n",
    "#Importing libraries\n",
    "import pandas as pd  # pandas for data reading and manipulation\n",
    "import numpy as np #for importing function\n",
    "import seaborn as sns  #for data import\n"
   ]
  },
  {
   "cell_type": "code",
   "execution_count": 2,
   "metadata": {},
   "outputs": [],
   "source": [
    "# loading tips data \n",
    "df=sns.load_dataset('tips')"
   ]
  },
  {
   "cell_type": "markdown",
   "metadata": {},
   "source": [
    "Next we find the normality of the tips given with help of normality test."
   ]
  },
  {
   "cell_type": "code",
   "execution_count": 3,
   "metadata": {},
   "outputs": [
    {
     "data": {
      "text/plain": [
       "1.4654510370979401"
      ]
     },
     "execution_count": 3,
     "metadata": {},
     "output_type": "execute_result"
    }
   ],
   "source": [
    "#checking that tips is skewed or normal?\n",
    "df['tip'].skew()   # answer showing data is skewed not normal "
   ]
  },
  {
   "cell_type": "code",
   "execution_count": 4,
   "metadata": {},
   "outputs": [
    {
     "name": "stdout",
     "output_type": "stream",
     "text": [
      "Statistics=0.898, p=0.000\n",
      "the p-value is 0.000 , which is less than the alpha (0.05). Thus, we REJECT the NULL hypothesis:i.e., \n",
      " we have sufficient evidence that the sample does NOT come from a normal distribution.\n"
     ]
    }
   ],
   "source": [
    "#confirm it using Shapiro_wilk test\n",
    "#H0: the data is normally distributed\n",
    "#H1: The data is not normally distributed \n",
    "from scipy.stats import shapiro   #here we used scipy library built on numpy(same as seaborn built on matplot lib)\n",
    "stat, p = shapiro(df['tip'])   #stat is for statistics test, p value is finding from data .\n",
    "print('Statistics=%.3f, p=%.3f' % (stat, p))\n",
    "\n",
    "# interpret\n",
    "alpha = 0.05\n",
    "if p > alpha:\n",
    "    print(f'the p-value is {p:.3f} , which is more than the alpha (0.05). Thus, we FAIL to reject the NULL hypothesis:i.e., '\n",
    "      '\\n we do NOT have sufficient evidence to say that the sample does not come from a normal distribution.')\n",
    "    \n",
    "else:\n",
    "    print(f'the p-value is {p:.3f} , which is less than the alpha (0.05). Thus, we REJECT the NULL hypothesis:i.e., '\n",
    "      '\\n we have sufficient evidence that the sample does NOT come from a normal distribution.')\n",
    "\n",
    "\n"
   ]
  },
  {
   "cell_type": "code",
   "execution_count": 6,
   "metadata": {},
   "outputs": [
    {
     "ename": "ValueError",
     "evalue": "too many values to unpack (expected 2)",
     "output_type": "error",
     "traceback": [
      "\u001b[1;31m---------------------------------------------------------------------------\u001b[0m",
      "\u001b[1;31mValueError\u001b[0m                                Traceback (most recent call last)",
      "\u001b[1;32mc:\\Users\\ABC\\Desktop\\Machine Learning\\inferential_statistics.ipynb Cell 7\u001b[0m line \u001b[0;36m6\n\u001b[0;32m      <a href='vscode-notebook-cell:/c%3A/Users/ABC/Desktop/Machine%20Learning/inferential_statistics.ipynb#W6sZmlsZQ%3D%3D?line=0'>1</a>\u001b[0m \u001b[39m#Anderson Darling test\u001b[39;00m\n\u001b[0;32m      <a href='vscode-notebook-cell:/c%3A/Users/ABC/Desktop/Machine%20Learning/inferential_statistics.ipynb#W6sZmlsZQ%3D%3D?line=1'>2</a>\u001b[0m \u001b[39m# H0: The data is normally distributed\u001b[39;00m\n\u001b[0;32m      <a href='vscode-notebook-cell:/c%3A/Users/ABC/Desktop/Machine%20Learning/inferential_statistics.ipynb#W6sZmlsZQ%3D%3D?line=2'>3</a>\u001b[0m \u001b[39m# H1: The data is not normally distributed\u001b[39;00m\n\u001b[0;32m      <a href='vscode-notebook-cell:/c%3A/Users/ABC/Desktop/Machine%20Learning/inferential_statistics.ipynb#W6sZmlsZQ%3D%3D?line=4'>5</a>\u001b[0m \u001b[39mfrom\u001b[39;00m \u001b[39mscipy\u001b[39;00m\u001b[39m.\u001b[39;00m\u001b[39mstats\u001b[39;00m \u001b[39mimport\u001b[39;00m anderson\n\u001b[1;32m----> <a href='vscode-notebook-cell:/c%3A/Users/ABC/Desktop/Machine%20Learning/inferential_statistics.ipynb#W6sZmlsZQ%3D%3D?line=5'>6</a>\u001b[0m stat, p\u001b[39m=\u001b[39m anderson(df[\u001b[39m'\u001b[39m\u001b[39mtip\u001b[39m\u001b[39m'\u001b[39m])\n\u001b[0;32m      <a href='vscode-notebook-cell:/c%3A/Users/ABC/Desktop/Machine%20Learning/inferential_statistics.ipynb#W6sZmlsZQ%3D%3D?line=6'>7</a>\u001b[0m \u001b[39mprint\u001b[39m(\u001b[39m'\u001b[39m\u001b[39mStatistics=\u001b[39m\u001b[39m%.3f\u001b[39;00m\u001b[39m, p=\u001b[39m\u001b[39m%.3f\u001b[39;00m\u001b[39m'\u001b[39m \u001b[39m%\u001b[39m (stat, p))\n\u001b[0;32m      <a href='vscode-notebook-cell:/c%3A/Users/ABC/Desktop/Machine%20Learning/inferential_statistics.ipynb#W6sZmlsZQ%3D%3D?line=8'>9</a>\u001b[0m \u001b[39m# interpret\u001b[39;00m\n",
      "\u001b[1;31mValueError\u001b[0m: too many values to unpack (expected 2)"
     ]
    }
   ],
   "source": [
    "#Anderson Darling test\n",
    "# H0: The data is normally distributed\n",
    "# H1: The data is not normally distributed\n",
    "\n",
    "from scipy.stats import anderson\n",
    "stat, p= anderson(df['tip'])\n",
    "print('Statistics=%.3f, p=%.3f' % (stat, p))\n",
    "\n",
    "# interpret\n",
    "alpha = 0.05\n",
    "if p > alpha:\n",
    "    print(f'the p-value is {p:.3f} , which is more than the alpha (0.05). Thus, we FAIL to reject the NULL hypothesis:i.e., '\n",
    "      '\\n we do NOT have sufficient evidence to say that the sample does not come from a normal distribution.')\n",
    "    \n",
    "else:\n",
    "    print(f'the p-value is {p:.3f} , which is less than the alpha (0.05). Thus, we REJECT the NULL hypothesis:i.e., '\n",
    "      '\\n we have sufficient evidence that the sample does NOT come from a normal distribution.')\n",
    "\n",
    "\n"
   ]
  },
  {
   "cell_type": "code",
   "execution_count": 7,
   "metadata": {},
   "outputs": [
    {
     "name": "stdout",
     "output_type": "stream",
     "text": [
      "Test statistic: 5.300\n",
      "The data does NOT come from a normal distribution at the 5% significance level.\n"
     ]
    }
   ],
   "source": [
    "from scipy.stats import anderson\n",
    "\n",
    "# Perform the Anderson-Darling test\n",
    "result = anderson(df['tip'])\n",
    "\n",
    "# Extract the test statistic and critical values\n",
    "statistic = result.statistic\n",
    "critical_values = result.critical_values\n",
    "\n",
    "# Set the significance level (alpha)\n",
    "alpha = 0.05\n",
    "\n",
    "# Interpret the test results\n",
    "if statistic > critical_values[2]:\n",
    "    print(f'Test statistic: {statistic:.3f}')\n",
    "    print('The data does NOT come from a normal distribution ')\n",
    "else:\n",
    "    print(f'Test statistic: {statistic:.3f}')\n",
    "    print('The data comes from a normal distribution.')\n"
   ]
  }
 ],
 "metadata": {
  "kernelspec": {
   "display_name": "Python 3",
   "language": "python",
   "name": "python3"
  },
  "language_info": {
   "codemirror_mode": {
    "name": "ipython",
    "version": 3
   },
   "file_extension": ".py",
   "mimetype": "text/x-python",
   "name": "python",
   "nbconvert_exporter": "python",
   "pygments_lexer": "ipython3",
   "version": "3.11.4"
  },
  "orig_nbformat": 4
 },
 "nbformat": 4,
 "nbformat_minor": 2
}
