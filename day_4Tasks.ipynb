{
 "cells": [
  {
   "cell_type": "markdown",
   "metadata": {},
   "source": [
    "# Tasks Day # 4\n",
    "# Make your own dataset or data frame using pandas atleast 3 columns and 5 or 6 row values\n"
   ]
  },
  {
   "cell_type": "markdown",
   "metadata": {},
   "source": [
    "Task1: , Make your own dataset using pandas:"
   ]
  },
  {
   "cell_type": "code",
   "execution_count": 4,
   "metadata": {},
   "outputs": [
    {
     "name": "stdout",
     "output_type": "stream",
     "text": [
      "        Biryani  Plao\n",
      "Maheen        6     0\n",
      "Aliya         5     1\n",
      "Ali           5     7\n",
      "Awais         9     3\n",
      "Ahmad         0     3\n"
     ]
    }
   ],
   "source": [
    "import pandas as pd  # importing pandas library\n",
    "  \n",
    "# Initialize data to Dicts of series.  \n",
    "##There are two food stalls named Biryani and Plao plate, Here coulmn for each food and row for customer purchase.\n",
    "\n",
    "d = {'Biryani' : pd.Series([6, 5, 5, 9, 0], index =['Maheen', 'Aliya', 'Ali', 'Awais', 'Ahmad']),  \n",
    "   'Plao' : pd.Series([0, 1, 7, 3, 3], index =['Maheen', 'Aliya', 'Ali', 'Awais', 'Ahmad'])}  \n",
    "  \n",
    "# creates Dataframe.  \n",
    "dframe = pd.DataFrame(d)  ##This is the primary data structure of the Pandas, arranged in rows and coulmns\n",
    "  \n",
    "# print the data.  \n",
    "print(dframe)"
   ]
  },
  {
   "cell_type": "markdown",
   "metadata": {},
   "source": [
    "Task 2: ##Task  what is loc verses iloc, explain with examples"
   ]
  },
  {
   "cell_type": "code",
   "execution_count": 5,
   "metadata": {},
   "outputs": [
    {
     "data": {
      "text/plain": [
       "Biryani    5\n",
       "Plao       1\n",
       "Name: Aliya, dtype: int64"
      ]
     },
     "execution_count": 5,
     "metadata": {},
     "output_type": "execute_result"
    }
   ],
   "source": [
    "## Ans: loc function selects rows using row labels, whereas the iloc function selects rows using their integer positions \n",
    "# (staring from 0 and going up by one for each row)\n",
    "dframe.loc['Aliya']"
   ]
  },
  {
   "cell_type": "code",
   "execution_count": 7,
   "metadata": {},
   "outputs": [
    {
     "data": {
      "text/plain": [
       "Biryani    9\n",
       "Plao       3\n",
       "Name: Awais, dtype: int64"
      ]
     },
     "execution_count": 7,
     "metadata": {},
     "output_type": "execute_result"
    }
   ],
   "source": [
    "dframe.iloc[3]"
   ]
  },
  {
   "cell_type": "markdown",
   "metadata": {},
   "source": [
    "#Task 3:  selecting unique data from single coulmn and both coulmn\n"
   ]
  },
  {
   "cell_type": "code",
   "execution_count": 8,
   "metadata": {},
   "outputs": [
    {
     "data": {
      "text/plain": [
       "array([6, 5, 9, 0], dtype=int64)"
      ]
     },
     "execution_count": 8,
     "metadata": {},
     "output_type": "execute_result"
    }
   ],
   "source": [
    "dframe['Biryani'].unique()   ## unique data from 1 coulmn"
   ]
  },
  {
   "cell_type": "code",
   "execution_count": 15,
   "metadata": {},
   "outputs": [
    {
     "ename": "TypeError",
     "evalue": "'method' object is not subscriptable",
     "output_type": "error",
     "traceback": [
      "\u001b[1;31m---------------------------------------------------------------------------\u001b[0m",
      "\u001b[1;31mTypeError\u001b[0m                                 Traceback (most recent call last)",
      "\u001b[1;32mc:\\Users\\ABC\\Desktop\\Machine Learning\\day_4Tasks.ipynb Cell 9\u001b[0m line \u001b[0;36m3\n\u001b[0;32m      <a href='vscode-notebook-cell:/c%3A/Users/ABC/Desktop/Machine%20Learning/day_4Tasks.ipynb#X13sZmlsZQ%3D%3D?line=0'>1</a>\u001b[0m \u001b[39m## unique data from both coulmns\u001b[39;00m\n\u001b[0;32m      <a href='vscode-notebook-cell:/c%3A/Users/ABC/Desktop/Machine%20Learning/day_4Tasks.ipynb#X13sZmlsZQ%3D%3D?line=1'>2</a>\u001b[0m \u001b[39mimport\u001b[39;00m \u001b[39mnumpy\u001b[39;00m \u001b[39mas\u001b[39;00m \u001b[39mnp\u001b[39;00m\n\u001b[1;32m----> <a href='vscode-notebook-cell:/c%3A/Users/ABC/Desktop/Machine%20Learning/day_4Tasks.ipynb#X13sZmlsZQ%3D%3D?line=2'>3</a>\u001b[0m g\u001b[39m=\u001b[39mdframe\u001b[39m.\u001b[39;49mgroupby[\u001b[39m'\u001b[39;49m\u001b[39mBiryani\u001b[39;49m\u001b[39m'\u001b[39;49m,\u001b[39m'\u001b[39;49m\u001b[39mPlao\u001b[39;49m\u001b[39m'\u001b[39;49m]\u001b[39m.\u001b[39munique()\n\u001b[0;32m      <a href='vscode-notebook-cell:/c%3A/Users/ABC/Desktop/Machine%20Learning/day_4Tasks.ipynb#X13sZmlsZQ%3D%3D?line=3'>4</a>\u001b[0m \u001b[39mprint\u001b[39m(g)\n",
      "\u001b[1;31mTypeError\u001b[0m: 'method' object is not subscriptable"
     ]
    }
   ],
   "source": [
    "## unique data from both coulmns\n",
    "g=dframe.groupby['Biryani','Plao'].unique()\n",
    "print(g)"
   ]
  }
 ],
 "metadata": {
  "kernelspec": {
   "display_name": "Python 3",
   "language": "python",
   "name": "python3"
  },
  "language_info": {
   "codemirror_mode": {
    "name": "ipython",
    "version": 3
   },
   "file_extension": ".py",
   "mimetype": "text/x-python",
   "name": "python",
   "nbconvert_exporter": "python",
   "pygments_lexer": "ipython3",
   "version": "3.11.4"
  },
  "orig_nbformat": 4
 },
 "nbformat": 4,
 "nbformat_minor": 2
}
