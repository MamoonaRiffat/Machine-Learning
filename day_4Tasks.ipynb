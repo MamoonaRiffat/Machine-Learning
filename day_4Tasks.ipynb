{
 "cells": [
  {
   "cell_type": "markdown",
   "metadata": {},
   "source": [
    "# Tasks Day # 4\n",
    "# Make your own dataset or data frame using pandas atleast 3 columns and 5 or 6 row values\n"
   ]
  },
  {
   "cell_type": "code",
   "execution_count": 3,
   "metadata": {},
   "outputs": [
    {
     "name": "stdout",
     "output_type": "stream",
     "text": [
      "         Electronics  Civil\n",
      "John              97     97\n",
      "Abhinay           56     88\n",
      "Peter             87     44\n",
      "Andrew            45     96\n"
     ]
    }
   ],
   "source": [
    "import pandas as pd  # importing pandas library\n",
    "  \n",
    "# Initialize data to Dicts of series.  \n",
    "\n",
    "d = {'Electronics' : pd.Series([97, 56, 87, 45], index =['John', 'Abhinay', 'Peter', 'Andrew']),  \n",
    "   'Civil' : pd.Series([97, 88, 44, 96], index =['John', 'Abhinay', 'Peter', 'Andrew'])}  \n",
    "  \n",
    "# creates Dataframe.  \n",
    "dframe = pd.DataFrame(d)  \n",
    "  \n",
    "# print the data.  \n",
    "print(dframe)"
   ]
  }
 ],
 "metadata": {
  "kernelspec": {
   "display_name": "Python 3",
   "language": "python",
   "name": "python3"
  },
  "language_info": {
   "codemirror_mode": {
    "name": "ipython",
    "version": 3
   },
   "file_extension": ".py",
   "mimetype": "text/x-python",
   "name": "python",
   "nbconvert_exporter": "python",
   "pygments_lexer": "ipython3",
   "version": "3.11.4"
  },
  "orig_nbformat": 4
 },
 "nbformat": 4,
 "nbformat_minor": 2
}
