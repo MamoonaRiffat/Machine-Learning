{
 "cells": [
  {
   "cell_type": "code",
   "execution_count": 2,
   "metadata": {},
   "outputs": [],
   "source": [
    "import numpy as np\n",
    "import pandas as pd\n",
    "import math"
   ]
  },
  {
   "cell_type": "markdown",
   "metadata": {},
   "source": [
    "##Statistics in Machine Learning"
   ]
  },
  {
   "cell_type": "code",
   "execution_count": 3,
   "metadata": {},
   "outputs": [],
   "source": [
    "#Task: Difference between percentile and quantiles.\n",
    "##A percentile is a specific type of quantiles that divides data into 100 equal parts or percentages.\n",
    "##Example: For example you have NTS GAT test, total marks are 100, they will arrange all the obtained marks of students .\n",
    "# (34,45,46,50,62,73,79,81,94,98)\n",
    "##Let's say students are 10, and you are at position 5 that's mean your having 50th percentile, then it's means\n",
    "# 50 percentage of value is less than your scores(62), if the position of student is 7, it's percentile would be 70%,\n",
    "# so it's mean 70% students are having less scores than 79. and 10% students are having values greater than 79.\n",
    "\n",
    "\n",
    "#### Quantiles:A quantiles is a data distribution that divides the data into subsets of equal probability or frequency.\n",
    "#data can be divided into 4 parts quartiles, quintiles (5 parts), deciles (10 parts), or percentiles (100 parts). the above example \n",
    "#of GAT marks have 10 parts or deciles. "
   ]
  },
  {
   "cell_type": "markdown",
   "metadata": {},
   "source": [
    "#Use Python for measure of dispersion (spread of data)"
   ]
  },
  {
   "cell_type": "code",
   "execution_count": 4,
   "metadata": {},
   "outputs": [
    {
     "data": {
      "text/plain": [
       "109"
      ]
     },
     "execution_count": 4,
     "metadata": {},
     "output_type": "execute_result"
    }
   ],
   "source": [
    "#1. Range: \n",
    "\n",
    "numbers = [4,10,29,33,42,-67]\n",
    "def find_range(list_of_numbers):\n",
    "    n_min = min(list_of_numbers)\n",
    "    n_max = max(list_of_numbers)\n",
    "    n_range = n_max - n_min\n",
    "    return n_range\n",
    "find_range(numbers)"
   ]
  },
  {
   "cell_type": "code",
   "execution_count": 5,
   "metadata": {},
   "outputs": [
    {
     "name": "stdout",
     "output_type": "stream",
     "text": [
      "Variance: 27.10204081632653\n"
     ]
    }
   ],
   "source": [
    "#2. variance\n",
    "def calculate_variance(data):\n",
    "    if len(data) == 0:   #checking either data is empty or not\n",
    "        raise ValueError(\"Input data is empty.\")\n",
    "\n",
    "    # Calculate the mean of the data\n",
    "    mean = sum(data) / len(data)\n",
    "\n",
    "    # Calculate the squared differences from the mean\n",
    "    squared_differences = [(x - mean) ** 2 for x in data]\n",
    "\n",
    "    # Calculate the variance as the mean of squared differences\n",
    "    variance = sum(squared_differences) / len(data)\n",
    "\n",
    "    return variance    #returning the value on function call\n",
    "\n",
    "data = [10, 15, 7, 23, 18, 9, 12]\n",
    "result = calculate_variance(data)\n",
    "print(\"Variance:\", result)\n"
   ]
  },
  {
   "cell_type": "code",
   "execution_count": 6,
   "metadata": {},
   "outputs": [
    {
     "name": "stdout",
     "output_type": "stream",
     "text": [
      "Standard Deviation: 5.623081683476385\n"
     ]
    }
   ],
   "source": [
    "#import math library for std_deviation\n",
    "\n",
    "def std_deviation(data):\n",
    "    # Calculate the mean of the data\n",
    "    mean = sum(data) / len(data)\n",
    "\n",
    "    # Calculate the squared differences from the mean\n",
    "    squared_differences = [(x - mean) ** 2 for x in data]\n",
    "\n",
    "    # Calculate the sample standard deviation\n",
    "    sample_std_deviation = math.sqrt(sum(squared_differences) / (len(data) - 1)) #math.sqrt is function to calculate square root.\n",
    "\n",
    "    return sample_std_deviation   # return function is used to return the value.\n",
    "\n",
    "# Example usage for sample standard deviation:\n",
    "data = [10, 15, 7, 23, 18, 9, 12]\n",
    "result = std_deviation(data)\n",
    "print(\"Standard Deviation:\", result)\n"
   ]
  },
  {
   "cell_type": "code",
   "execution_count": 7,
   "metadata": {},
   "outputs": [
    {
     "name": "stdout",
     "output_type": "stream",
     "text": [
      "25th Percentile: 9.5\n"
     ]
    }
   ],
   "source": [
    "#Percentile calculation\n",
    "\n",
    "data = [10, 15, 7, 23, 18, 9, 12]\n",
    "\n",
    "# Calculating the 25th percentile (1st quartile) using function in numpy as np.percentile.\n",
    "percentile_25 = np.percentile(data, 25)\n",
    "\n",
    "# display of results\n",
    "print(\"25th Percentile:\", percentile_25)\n"
   ]
  }
 ],
 "metadata": {
  "kernelspec": {
   "display_name": "Python 3",
   "language": "python",
   "name": "python3"
  },
  "language_info": {
   "codemirror_mode": {
    "name": "ipython",
    "version": 3
   },
   "file_extension": ".py",
   "mimetype": "text/x-python",
   "name": "python",
   "nbconvert_exporter": "python",
   "pygments_lexer": "ipython3",
   "version": "3.11.4"
  },
  "orig_nbformat": 4
 },
 "nbformat": 4,
 "nbformat_minor": 2
}
